{
  "nbformat": 4,
  "nbformat_minor": 0,
  "metadata": {
    "colab": {
      "name": "前期处理毕业作业.ipynb",
      "provenance": []
    },
    "kernelspec": {
      "name": "python3",
      "display_name": "Python 3"
    },
    "language_info": {
      "name": "python"
    }
  },
  "cells": [
    {
      "cell_type": "code",
      "execution_count": null,
      "metadata": {
        "colab": {
          "base_uri": "https://localhost:8080/"
        },
        "id": "veXUDLzDUX_0",
        "outputId": "c69be8ca-a26e-4593-faa6-2c2c2f78908a"
      },
      "outputs": [
        {
          "output_type": "stream",
          "name": "stdout",
          "text": [
            "Mounted at /content/drive\n"
          ]
        }
      ],
      "source": [
        "from google.colab import drive\n",
        "drive.mount('/content/drive')"
      ]
    },
    {
      "cell_type": "code",
      "source": [
        "import os\n",
        "import pandas as pd\n",
        "import matplotlib.pyplot as plt\n",
        "import numpy as np\n",
        "import seaborn as sns\n",
        "import sklearn\n",
        "import numpy as np\n",
        "from datetime import datetime\n",
        "from sklearn import metrics\n",
        "from sklearn.neighbors import KNeighborsRegressor # kmean clustering\n",
        "from scipy.cluster.vq import kmeans, vq, whiten\n",
        "from scipy.spatial.distance import cdist\n",
        "\n",
        "import string # for text processing\n",
        "\n"
      ],
      "metadata": {
        "id": "bUqWozo3V_WC"
      },
      "execution_count": null,
      "outputs": []
    },
    {
      "cell_type": "code",
      "source": [
        "df = pd.read_excel('/content/drive/MyDrive/file for coding/MYP/Maalej Dataset.xlsx', index_col=0)\n",
        "df.info()"
      ],
      "metadata": {
        "colab": {
          "base_uri": "https://localhost:8080/"
        },
        "id": "UfgOt_M-WAhn",
        "outputId": "1790f982-2f12-4385-e176-f9fcc8b02d02"
      },
      "execution_count": null,
      "outputs": [
        {
          "output_type": "stream",
          "name": "stdout",
          "text": [
            "<class 'pandas.core.frame.DataFrame'>\n",
            "Int64Index: 3691 entries, 1 to 3691\n",
            "Data columns (total 25 columns):\n",
            " #   Column                           Non-Null Count  Dtype \n",
            "---  ------                           --------------  ----- \n",
            " 0   review                           3691 non-null   object\n",
            " 1   rating                           3691 non-null   int64 \n",
            " 2   past                             3691 non-null   int64 \n",
            " 3   stopwords_removal                3685 non-null   object\n",
            " 4   reviewer                         634 non-null    object\n",
            " 5   id                               3691 non-null   int64 \n",
            " 6   stemmed                          3689 non-null   object\n",
            " 7   fee                              634 non-null    object\n",
            " 8   title                            1995 non-null   object\n",
            " 9   task                             3691 non-null   object\n",
            " 10  future                           3691 non-null   int64 \n",
            " 11  lemmatized_comment               3689 non-null   object\n",
            " 12  sentiScore                       3691 non-null   int64 \n",
            " 13  sentiScore_neg                   3691 non-null   int64 \n",
            " 14  reviewId                         3691 non-null   int64 \n",
            " 15  stopwords_removal_nltk           3681 non-null   object\n",
            " 16  present_simple                   3691 non-null   int64 \n",
            " 17  dataSource                       3691 non-null   object\n",
            " 18  appId                            1750 non-null   object\n",
            " 19  date                             634 non-null    object\n",
            " 20  sentiScore_pos                   3691 non-null   int64 \n",
            " 21  present_con                      3691 non-null   int64 \n",
            " 22  length_words                     3691 non-null   int64 \n",
            " 23  stopwords_removal_lemmatization  3685 non-null   object\n",
            " 24  Exclude                          3321 non-null   object\n",
            "dtypes: int64(11), object(14)\n",
            "memory usage: 749.7+ KB\n"
          ]
        }
      ]
    },
    {
      "cell_type": "code",
      "source": [
        "df.head()"
      ],
      "metadata": {
        "colab": {
          "base_uri": "https://localhost:8080/",
          "height": 678
        },
        "id": "jRYX62sehOCd",
        "outputId": "1fb37e91-2980-4cac-f455-9846345de676"
      },
      "execution_count": null,
      "outputs": [
        {
          "output_type": "execute_result",
          "data": {
            "text/plain": [
              "                                                   review  rating  past  \\\n",
              "id_num                                                                    \n",
              "1       Besides the occasional crash, this is an amazi...       5     0   \n",
              "2       This could be a great app if it was predictabl...       1     1   \n",
              "3       I can't open since the last 2 updates Pop-ups ...       1     0   \n",
              "4       Use to love this app but it's not working afte...       1     1   \n",
              "5       Urrrrm\\tAfter my third re installing, it final...       3     5   \n",
              "\n",
              "                                        stopwords_removal  \\\n",
              "id_num                                                      \n",
              "1       besides occasional crash, this amazing product...   \n",
              "2       this could be great app if was predictable, bu...   \n",
              "3       can't open since last 2 updates pop-ups go cra...   \n",
              "4       use to love this app but its not working after...   \n",
              "5       urrrrm after third re installing, finally has ...   \n",
              "\n",
              "                                                 reviewer   id  \\\n",
              "id_num                                                           \n",
              "1                                                     NaN  264   \n",
              "2                                                     NaN  111   \n",
              "3                                                     NaN  210   \n",
              "4                                                     NaN   53   \n",
              "5       cid-gp:AOqpTOE3YjNzLOttARdiYx3b2O02-B1k-FO01WO...   13   \n",
              "\n",
              "                                                  stemmed   fee  \\\n",
              "id_num                                                            \n",
              "1       besid the occa crash, thi is an amaz produc wi...   NaN   \n",
              "2       thi could be a gre ap if it was predictable, b...   NaN   \n",
              "3       i can't op sint the last 2 upd pop-ups go craz...   NaN   \n",
              "4       us to lov thi ap but its not work aft new upda...   NaN   \n",
              "5       urrrrm aft my third re installing, it fin has ...  paid   \n",
              "\n",
              "                                          title task  ...  \\\n",
              "id_num                                                ...   \n",
              "1                                Almost perfect   PD  ...   \n",
              "2            Take a photo of your boarding pass   PD  ...   \n",
              "3       Won't open due to pop-ups since upgrade   PD  ...   \n",
              "4                      Not Working After Update   PD  ...   \n",
              "5                                           NaN   PD  ...   \n",
              "\n",
              "                                   stopwords_removal_nltk present_simple  \\\n",
              "id_num                                                                     \n",
              "1       besides occasional crash, amazing product tons...              2   \n",
              "2       could great app predictable, full bugs unpredi...              9   \n",
              "3       can't open since last 2 updates pop-ups go cra...              1   \n",
              "4       use love app its working new update pages wont...              4   \n",
              "5       urrrrm third re installing, finally scenery ha...             14   \n",
              "\n",
              "                            dataSource                          appId   date  \\\n",
              "id_num                                                                         \n",
              "1       RE2014_app_and_play_store_apps                            NaN    NaN   \n",
              "2                      AppStore_Random                      382698565    NaN   \n",
              "3       RE2014_app_and_play_store_apps                            NaN    NaN   \n",
              "4                      AppStore_Random                      404299862    NaN   \n",
              "5                     PlayStore_Random  #3_Need for Speed Most Wanted  12:44   \n",
              "\n",
              "       sentiScore_pos  present_con length_words  \\\n",
              "id_num                                            \n",
              "1                   3            1           22   \n",
              "2                   3            0           58   \n",
              "3                   2            1           24   \n",
              "4                   3            1           39   \n",
              "5                   4            2          150   \n",
              "\n",
              "                          stopwords_removal_lemmatization Exclude  \n",
              "id_num                                                             \n",
              "1       besides occasional crash, this amaze product w...     NaN  \n",
              "2       this could be great app if be predictable, but...     NaN  \n",
              "3       can't open since last 2 update pop-up go crazy...     NaN  \n",
              "4       use to love this app but its not work after ne...     NaN  \n",
              "5       urrrrm after third re installing, finally have...     NaN  \n",
              "\n",
              "[5 rows x 25 columns]"
            ],
            "text/html": [
              "\n",
              "  <div id=\"df-eefeae8a-75c1-4063-80c3-76cef1158530\">\n",
              "    <div class=\"colab-df-container\">\n",
              "      <div>\n",
              "<style scoped>\n",
              "    .dataframe tbody tr th:only-of-type {\n",
              "        vertical-align: middle;\n",
              "    }\n",
              "\n",
              "    .dataframe tbody tr th {\n",
              "        vertical-align: top;\n",
              "    }\n",
              "\n",
              "    .dataframe thead th {\n",
              "        text-align: right;\n",
              "    }\n",
              "</style>\n",
              "<table border=\"1\" class=\"dataframe\">\n",
              "  <thead>\n",
              "    <tr style=\"text-align: right;\">\n",
              "      <th></th>\n",
              "      <th>review</th>\n",
              "      <th>rating</th>\n",
              "      <th>past</th>\n",
              "      <th>stopwords_removal</th>\n",
              "      <th>reviewer</th>\n",
              "      <th>id</th>\n",
              "      <th>stemmed</th>\n",
              "      <th>fee</th>\n",
              "      <th>title</th>\n",
              "      <th>task</th>\n",
              "      <th>...</th>\n",
              "      <th>stopwords_removal_nltk</th>\n",
              "      <th>present_simple</th>\n",
              "      <th>dataSource</th>\n",
              "      <th>appId</th>\n",
              "      <th>date</th>\n",
              "      <th>sentiScore_pos</th>\n",
              "      <th>present_con</th>\n",
              "      <th>length_words</th>\n",
              "      <th>stopwords_removal_lemmatization</th>\n",
              "      <th>Exclude</th>\n",
              "    </tr>\n",
              "    <tr>\n",
              "      <th>id_num</th>\n",
              "      <th></th>\n",
              "      <th></th>\n",
              "      <th></th>\n",
              "      <th></th>\n",
              "      <th></th>\n",
              "      <th></th>\n",
              "      <th></th>\n",
              "      <th></th>\n",
              "      <th></th>\n",
              "      <th></th>\n",
              "      <th></th>\n",
              "      <th></th>\n",
              "      <th></th>\n",
              "      <th></th>\n",
              "      <th></th>\n",
              "      <th></th>\n",
              "      <th></th>\n",
              "      <th></th>\n",
              "      <th></th>\n",
              "      <th></th>\n",
              "      <th></th>\n",
              "    </tr>\n",
              "  </thead>\n",
              "  <tbody>\n",
              "    <tr>\n",
              "      <th>1</th>\n",
              "      <td>Besides the occasional crash, this is an amazi...</td>\n",
              "      <td>5</td>\n",
              "      <td>0</td>\n",
              "      <td>besides occasional crash, this amazing product...</td>\n",
              "      <td>NaN</td>\n",
              "      <td>264</td>\n",
              "      <td>besid the occa crash, thi is an amaz produc wi...</td>\n",
              "      <td>NaN</td>\n",
              "      <td>Almost perfect</td>\n",
              "      <td>PD</td>\n",
              "      <td>...</td>\n",
              "      <td>besides occasional crash, amazing product tons...</td>\n",
              "      <td>2</td>\n",
              "      <td>RE2014_app_and_play_store_apps</td>\n",
              "      <td>NaN</td>\n",
              "      <td>NaN</td>\n",
              "      <td>3</td>\n",
              "      <td>1</td>\n",
              "      <td>22</td>\n",
              "      <td>besides occasional crash, this amaze product w...</td>\n",
              "      <td>NaN</td>\n",
              "    </tr>\n",
              "    <tr>\n",
              "      <th>2</th>\n",
              "      <td>This could be a great app if it was predictabl...</td>\n",
              "      <td>1</td>\n",
              "      <td>1</td>\n",
              "      <td>this could be great app if was predictable, bu...</td>\n",
              "      <td>NaN</td>\n",
              "      <td>111</td>\n",
              "      <td>thi could be a gre ap if it was predictable, b...</td>\n",
              "      <td>NaN</td>\n",
              "      <td>Take a photo of your boarding pass</td>\n",
              "      <td>PD</td>\n",
              "      <td>...</td>\n",
              "      <td>could great app predictable, full bugs unpredi...</td>\n",
              "      <td>9</td>\n",
              "      <td>AppStore_Random</td>\n",
              "      <td>382698565</td>\n",
              "      <td>NaN</td>\n",
              "      <td>3</td>\n",
              "      <td>0</td>\n",
              "      <td>58</td>\n",
              "      <td>this could be great app if be predictable, but...</td>\n",
              "      <td>NaN</td>\n",
              "    </tr>\n",
              "    <tr>\n",
              "      <th>3</th>\n",
              "      <td>I can't open since the last 2 updates Pop-ups ...</td>\n",
              "      <td>1</td>\n",
              "      <td>0</td>\n",
              "      <td>can't open since last 2 updates pop-ups go cra...</td>\n",
              "      <td>NaN</td>\n",
              "      <td>210</td>\n",
              "      <td>i can't op sint the last 2 upd pop-ups go craz...</td>\n",
              "      <td>NaN</td>\n",
              "      <td>Won't open due to pop-ups since upgrade</td>\n",
              "      <td>PD</td>\n",
              "      <td>...</td>\n",
              "      <td>can't open since last 2 updates pop-ups go cra...</td>\n",
              "      <td>1</td>\n",
              "      <td>RE2014_app_and_play_store_apps</td>\n",
              "      <td>NaN</td>\n",
              "      <td>NaN</td>\n",
              "      <td>2</td>\n",
              "      <td>1</td>\n",
              "      <td>24</td>\n",
              "      <td>can't open since last 2 update pop-up go crazy...</td>\n",
              "      <td>NaN</td>\n",
              "    </tr>\n",
              "    <tr>\n",
              "      <th>4</th>\n",
              "      <td>Use to love this app but it's not working afte...</td>\n",
              "      <td>1</td>\n",
              "      <td>1</td>\n",
              "      <td>use to love this app but its not working after...</td>\n",
              "      <td>NaN</td>\n",
              "      <td>53</td>\n",
              "      <td>us to lov thi ap but its not work aft new upda...</td>\n",
              "      <td>NaN</td>\n",
              "      <td>Not Working After Update</td>\n",
              "      <td>PD</td>\n",
              "      <td>...</td>\n",
              "      <td>use love app its working new update pages wont...</td>\n",
              "      <td>4</td>\n",
              "      <td>AppStore_Random</td>\n",
              "      <td>404299862</td>\n",
              "      <td>NaN</td>\n",
              "      <td>3</td>\n",
              "      <td>1</td>\n",
              "      <td>39</td>\n",
              "      <td>use to love this app but its not work after ne...</td>\n",
              "      <td>NaN</td>\n",
              "    </tr>\n",
              "    <tr>\n",
              "      <th>5</th>\n",
              "      <td>Urrrrm\\tAfter my third re installing, it final...</td>\n",
              "      <td>3</td>\n",
              "      <td>5</td>\n",
              "      <td>urrrrm after third re installing, finally has ...</td>\n",
              "      <td>cid-gp:AOqpTOE3YjNzLOttARdiYx3b2O02-B1k-FO01WO...</td>\n",
              "      <td>13</td>\n",
              "      <td>urrrrm aft my third re installing, it fin has ...</td>\n",
              "      <td>paid</td>\n",
              "      <td>NaN</td>\n",
              "      <td>PD</td>\n",
              "      <td>...</td>\n",
              "      <td>urrrrm third re installing, finally scenery ha...</td>\n",
              "      <td>14</td>\n",
              "      <td>PlayStore_Random</td>\n",
              "      <td>#3_Need for Speed Most Wanted</td>\n",
              "      <td>12:44</td>\n",
              "      <td>4</td>\n",
              "      <td>2</td>\n",
              "      <td>150</td>\n",
              "      <td>urrrrm after third re installing, finally have...</td>\n",
              "      <td>NaN</td>\n",
              "    </tr>\n",
              "  </tbody>\n",
              "</table>\n",
              "<p>5 rows × 25 columns</p>\n",
              "</div>\n",
              "      <button class=\"colab-df-convert\" onclick=\"convertToInteractive('df-eefeae8a-75c1-4063-80c3-76cef1158530')\"\n",
              "              title=\"Convert this dataframe to an interactive table.\"\n",
              "              style=\"display:none;\">\n",
              "        \n",
              "  <svg xmlns=\"http://www.w3.org/2000/svg\" height=\"24px\"viewBox=\"0 0 24 24\"\n",
              "       width=\"24px\">\n",
              "    <path d=\"M0 0h24v24H0V0z\" fill=\"none\"/>\n",
              "    <path d=\"M18.56 5.44l.94 2.06.94-2.06 2.06-.94-2.06-.94-.94-2.06-.94 2.06-2.06.94zm-11 1L8.5 8.5l.94-2.06 2.06-.94-2.06-.94L8.5 2.5l-.94 2.06-2.06.94zm10 10l.94 2.06.94-2.06 2.06-.94-2.06-.94-.94-2.06-.94 2.06-2.06.94z\"/><path d=\"M17.41 7.96l-1.37-1.37c-.4-.4-.92-.59-1.43-.59-.52 0-1.04.2-1.43.59L10.3 9.45l-7.72 7.72c-.78.78-.78 2.05 0 2.83L4 21.41c.39.39.9.59 1.41.59.51 0 1.02-.2 1.41-.59l7.78-7.78 2.81-2.81c.8-.78.8-2.07 0-2.86zM5.41 20L4 18.59l7.72-7.72 1.47 1.35L5.41 20z\"/>\n",
              "  </svg>\n",
              "      </button>\n",
              "      \n",
              "  <style>\n",
              "    .colab-df-container {\n",
              "      display:flex;\n",
              "      flex-wrap:wrap;\n",
              "      gap: 12px;\n",
              "    }\n",
              "\n",
              "    .colab-df-convert {\n",
              "      background-color: #E8F0FE;\n",
              "      border: none;\n",
              "      border-radius: 50%;\n",
              "      cursor: pointer;\n",
              "      display: none;\n",
              "      fill: #1967D2;\n",
              "      height: 32px;\n",
              "      padding: 0 0 0 0;\n",
              "      width: 32px;\n",
              "    }\n",
              "\n",
              "    .colab-df-convert:hover {\n",
              "      background-color: #E2EBFA;\n",
              "      box-shadow: 0px 1px 2px rgba(60, 64, 67, 0.3), 0px 1px 3px 1px rgba(60, 64, 67, 0.15);\n",
              "      fill: #174EA6;\n",
              "    }\n",
              "\n",
              "    [theme=dark] .colab-df-convert {\n",
              "      background-color: #3B4455;\n",
              "      fill: #D2E3FC;\n",
              "    }\n",
              "\n",
              "    [theme=dark] .colab-df-convert:hover {\n",
              "      background-color: #434B5C;\n",
              "      box-shadow: 0px 1px 3px 1px rgba(0, 0, 0, 0.15);\n",
              "      filter: drop-shadow(0px 1px 2px rgba(0, 0, 0, 0.3));\n",
              "      fill: #FFFFFF;\n",
              "    }\n",
              "  </style>\n",
              "\n",
              "      <script>\n",
              "        const buttonEl =\n",
              "          document.querySelector('#df-eefeae8a-75c1-4063-80c3-76cef1158530 button.colab-df-convert');\n",
              "        buttonEl.style.display =\n",
              "          google.colab.kernel.accessAllowed ? 'block' : 'none';\n",
              "\n",
              "        async function convertToInteractive(key) {\n",
              "          const element = document.querySelector('#df-eefeae8a-75c1-4063-80c3-76cef1158530');\n",
              "          const dataTable =\n",
              "            await google.colab.kernel.invokeFunction('convertToInteractive',\n",
              "                                                     [key], {});\n",
              "          if (!dataTable) return;\n",
              "\n",
              "          const docLinkHtml = 'Like what you see? Visit the ' +\n",
              "            '<a target=\"_blank\" href=https://colab.research.google.com/notebooks/data_table.ipynb>data table notebook</a>'\n",
              "            + ' to learn more about interactive tables.';\n",
              "          element.innerHTML = '';\n",
              "          dataTable['output_type'] = 'display_data';\n",
              "          await google.colab.output.renderOutput(dataTable, element);\n",
              "          const docLink = document.createElement('div');\n",
              "          docLink.innerHTML = docLinkHtml;\n",
              "          element.appendChild(docLink);\n",
              "        }\n",
              "      </script>\n",
              "    </div>\n",
              "  </div>\n",
              "  "
            ]
          },
          "metadata": {},
          "execution_count": 4
        }
      ]
    },
    {
      "cell_type": "markdown",
      "source": [
        "##preprocessing"
      ],
      "metadata": {
        "id": "BcT-BTrbGlNW"
      }
    },
    {
      "cell_type": "code",
      "source": [
        "from nltk.corpus import stopwords # for stopwords\n",
        "import re\n",
        "import nltk\n",
        "from nltk.stem import WordNetLemmatizer\n",
        "from nltk.corpus import wordnet "
      ],
      "metadata": {
        "id": "Mwr3HqkiB03Y"
      },
      "execution_count": null,
      "outputs": []
    },
    {
      "cell_type": "code",
      "source": [
        "nltk.download('stopwords')\n",
        "nltk.download('wordnet')\n",
        "nltk.download('omw-1.4')"
      ],
      "metadata": {
        "colab": {
          "base_uri": "https://localhost:8080/"
        },
        "id": "L8EFhe1kCF6r",
        "outputId": "0393b9e9-6f35-4ec9-b058-72908949fa18"
      },
      "execution_count": null,
      "outputs": [
        {
          "output_type": "stream",
          "name": "stderr",
          "text": [
            "[nltk_data] Downloading package stopwords to /root/nltk_data...\n",
            "[nltk_data]   Package stopwords is already up-to-date!\n",
            "[nltk_data] Downloading package wordnet to /root/nltk_data...\n",
            "[nltk_data]   Package wordnet is already up-to-date!\n",
            "[nltk_data] Downloading package omw-1.4 to /root/nltk_data...\n",
            "[nltk_data]   Unzipping corpora/omw-1.4.zip.\n"
          ]
        },
        {
          "output_type": "execute_result",
          "data": {
            "text/plain": [
              "True"
            ]
          },
          "metadata": {},
          "execution_count": 40
        }
      ]
    },
    {
      "cell_type": "code",
      "source": [
        "'''\n",
        "# Convert the titles to lowercase\n",
        "df['text_processed'] = df['review'].map(lambda x: x.lower())\n",
        "\n",
        "# Remove punctuations     \n",
        "df['text_processed'] = df['text_processed'].map(lambda x: x.translate(str.maketrans(\"\", \"\", string.punctuation)))\n",
        "\n",
        "# Remove unnecessary line breaks\n",
        "df['text_processed'] = df['text_processed'].map(lambda x: re.sub(r\"\\n\", \"\", x))\n",
        "\n",
        "# Remove stopwords\n",
        "stop_words = stopwords.words('english')\n",
        "df['text_processed'] = df['text_processed'].map(lambda x: \" \".join([word for word in x.split() if word not in stop_words]))\n",
        "\n",
        "#lemmatization\n",
        "lemmatizer = WordNetLemmatizer()\n",
        "df['text_processed']= df['text_processed'].map(lambda x: lemmatizer.lemmatize(x))\n",
        "'''"
      ],
      "metadata": {
        "id": "3VZM4royAheT"
      },
      "execution_count": null,
      "outputs": []
    },
    {
      "cell_type": "markdown",
      "source": [
        "##method1 traditional"
      ],
      "metadata": {
        "id": "54EiV8qMGohD"
      }
    },
    {
      "cell_type": "code",
      "source": [
        "df = pd.read_excel('/content/drive/MyDrive/file for coding/MYP/Maalej Dataset.xlsx', index_col=0)\n",
        "df.info()"
      ],
      "metadata": {
        "colab": {
          "base_uri": "https://localhost:8080/"
        },
        "id": "Hme5xRxwG0Nj",
        "outputId": "56a1e50d-b508-4411-bd3b-9c1c214dfb6c"
      },
      "execution_count": null,
      "outputs": [
        {
          "output_type": "stream",
          "name": "stdout",
          "text": [
            "<class 'pandas.core.frame.DataFrame'>\n",
            "Int64Index: 3691 entries, 1 to 3691\n",
            "Data columns (total 25 columns):\n",
            " #   Column                           Non-Null Count  Dtype \n",
            "---  ------                           --------------  ----- \n",
            " 0   review                           3691 non-null   object\n",
            " 1   rating                           3691 non-null   int64 \n",
            " 2   past                             3691 non-null   int64 \n",
            " 3   stopwords_removal                3685 non-null   object\n",
            " 4   reviewer                         634 non-null    object\n",
            " 5   id                               3691 non-null   int64 \n",
            " 6   stemmed                          3689 non-null   object\n",
            " 7   fee                              634 non-null    object\n",
            " 8   title                            1995 non-null   object\n",
            " 9   task                             3691 non-null   object\n",
            " 10  future                           3691 non-null   int64 \n",
            " 11  lemmatized_comment               3689 non-null   object\n",
            " 12  sentiScore                       3691 non-null   int64 \n",
            " 13  sentiScore_neg                   3691 non-null   int64 \n",
            " 14  reviewId                         3691 non-null   int64 \n",
            " 15  stopwords_removal_nltk           3681 non-null   object\n",
            " 16  present_simple                   3691 non-null   int64 \n",
            " 17  dataSource                       3691 non-null   object\n",
            " 18  appId                            1750 non-null   object\n",
            " 19  date                             634 non-null    object\n",
            " 20  sentiScore_pos                   3691 non-null   int64 \n",
            " 21  present_con                      3691 non-null   int64 \n",
            " 22  length_words                     3691 non-null   int64 \n",
            " 23  stopwords_removal_lemmatization  3685 non-null   object\n",
            " 24  Exclude                          3321 non-null   object\n",
            "dtypes: int64(11), object(14)\n",
            "memory usage: 749.7+ KB\n"
          ]
        }
      ]
    },
    {
      "cell_type": "markdown",
      "source": [
        "split to train validation test data sets"
      ],
      "metadata": {
        "id": "pkipjKzWINyl"
      }
    },
    {
      "cell_type": "code",
      "source": [
        "train, validate, test = np.split(df, [int(.6*len(df)), int(.8*len(df))])"
      ],
      "metadata": {
        "id": "y9lmHaPDHsFx"
      },
      "execution_count": null,
      "outputs": []
    }
  ]
}